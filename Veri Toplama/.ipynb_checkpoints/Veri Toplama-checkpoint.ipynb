{
 "cells": [
  {
   "cell_type": "code",
   "execution_count": 4,
   "id": "f8cda50e",
   "metadata": {},
   "outputs": [],
   "source": [
    "import cv2\n",
    "import uuid  # Kaydedilen resimler üst üste binmesin diye ekledik.\n",
    "import os\n",
    "import time"
   ]
  },
  {
   "cell_type": "code",
   "execution_count": 5,
   "id": "10001b09",
   "metadata": {},
   "outputs": [],
   "source": [
    "IMAGES_PATH = os.path.join('images')\n",
    "labels = [\"Kalem\",\"Su Sisesi\"]\n",
    "number_imgs = 4"
   ]
  },
  {
   "cell_type": "code",
   "execution_count": 6,
   "id": "dca19b42",
   "metadata": {},
   "outputs": [
    {
     "name": "stdout",
     "output_type": "stream",
     "text": [
      "Kalem için toplanan resimler\n",
      "Kalem için toplanan resimler, resim numarası 0\n",
      "Kalem için toplanan resimler, resim numarası 1\n",
      "Kalem için toplanan resimler, resim numarası 2\n",
      "Kalem için toplanan resimler, resim numarası 3\n",
      "Su Şişesi için toplanan resimler\n",
      "Su Şişesi için toplanan resimler, resim numarası 0\n",
      "Su Şişesi için toplanan resimler, resim numarası 1\n",
      "Su Şişesi için toplanan resimler, resim numarası 2\n",
      "Su Şişesi için toplanan resimler, resim numarası 3\n"
     ]
    }
   ],
   "source": [
    "cap = cv2.VideoCapture(0)\n",
    "\n",
    "for label in labels:\n",
    "    print('{} için toplanan resimler'.format(label))\n",
    "    time.sleep(5)\n",
    "\n",
    "    for img_num in range(number_imgs):\n",
    "        print('{} için toplanan resimler, resim numarası {}'.format(label, img_num))\n",
    "\n",
    "        ret, frame = cap.read()\n",
    "\n",
    "        imgname = os.path.join(IMAGES_PATH, label+'.'+str(uuid.uuid1())+'.jpg')\n",
    "\n",
    "        cv2.imwrite(imgname, frame)\n",
    "\n",
    "        cv2.imshow('Toplanan resimler', frame)\n",
    "\n",
    "        time.sleep(2)\n",
    "\n",
    "    if cv2.waitKey(10) & 0xFF == ord('q'):\n",
    "        break\n",
    "cap.release()\n",
    "cv2.destroyAllWindows()"
   ]
  },
  {
   "cell_type": "code",
   "execution_count": null,
   "id": "b1f20775",
   "metadata": {},
   "outputs": [],
   "source": []
  }
 ],
 "metadata": {
  "kernelspec": {
   "display_name": "Python 3 (ipykernel)",
   "language": "python",
   "name": "python3"
  },
  "language_info": {
   "codemirror_mode": {
    "name": "ipython",
    "version": 3
   },
   "file_extension": ".py",
   "mimetype": "text/x-python",
   "name": "python",
   "nbconvert_exporter": "python",
   "pygments_lexer": "ipython3",
   "version": "3.9.12"
  }
 },
 "nbformat": 4,
 "nbformat_minor": 5
}
